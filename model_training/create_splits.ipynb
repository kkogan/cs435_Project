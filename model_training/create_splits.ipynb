{
 "cells": [
  {
   "cell_type": "code",
   "execution_count": 1,
   "metadata": {},
   "outputs": [
    {
     "name": "stdout",
     "output_type": "stream",
     "text": [
      "Currently Loaded Modulefiles:\u001b[m\n",
      " 1) courses/cs435/pa3   3) ide/visual-studio-code  \u001b[m\n",
      " 2) python/bundle-3.9   4) cuda/11.2               \u001b[m\n",
      "\u001b[K\u001b[?1l\u001b>"
     ]
    }
   ],
   "source": [
    "!module list"
   ]
  },
  {
   "cell_type": "code",
   "execution_count": 7,
   "metadata": {},
   "outputs": [],
   "source": [
    "import pandas as pd\n",
    "from sklearn.model_selection import train_test_split"
   ]
  },
  {
   "cell_type": "code",
   "execution_count": 3,
   "metadata": {},
   "outputs": [],
   "source": [
    "shared_dir = \"/s/bach/a/class/cs435/cs435a/\"\n",
    "image_dir = \"CS435_Plant_Data_v2_augment-v2/2023-11-15-231056\"\n",
    "manifest_path = shared_dir+image_dir+\"/manifest_merged_2.csv\""
   ]
  },
  {
   "cell_type": "code",
   "execution_count": 6,
   "metadata": {},
   "outputs": [],
   "source": [
    "manifest_df = pd.read_csv(manifest_path)"
   ]
  },
  {
   "cell_type": "code",
   "execution_count": 8,
   "metadata": {},
   "outputs": [],
   "source": [
    "train_size = 0.8\n"
   ]
  },
  {
   "cell_type": "code",
   "execution_count": 9,
   "metadata": {},
   "outputs": [
    {
     "name": "stdout",
     "output_type": "stream",
     "text": [
      "(172639, 12)\n",
      "(21580, 12)\n",
      "(21580, 12)\n"
     ]
    }
   ],
   "source": [
    "train_augmented_df, temp_df = train_test_split(manifest_df, test_size=1-train_size, random_state=42, stratify=manifest_df['class_name'])\n",
    "val_augmented_df, test_augmented_df = train_test_split(temp_df, test_size=0.5, random_state=42, stratify=temp_df['class_name'])\n",
    "print(train_augmented_df.shape)\n",
    "print(val_augmented_df.shape)\n",
    "print(test_augmented_df.shape)"
   ]
  },
  {
   "cell_type": "code",
   "execution_count": 13,
   "metadata": {},
   "outputs": [
    {
     "data": {
      "text/plain": [
       "'/s/bach/a/class/cs435/cs435a/CS435_Plant_Data_v2_augment-v2/2023-11-15-231056/splits/augmented'"
      ]
     },
     "execution_count": 13,
     "metadata": {},
     "output_type": "execute_result"
    }
   ],
   "source": [
    "aug_path = shared_dir+image_dir+\"/splits/augmented\"\n",
    "orig_path = shared_dir+image_dir+\"/splits/original\"\n",
    "aug_path"
   ]
  },
  {
   "cell_type": "code",
   "execution_count": 14,
   "metadata": {},
   "outputs": [],
   "source": [
    "train_augmented_df.to_csv(aug_path+\"/aug_train.csv\")\n",
    "val_augmented_df.to_csv(aug_path+\"/aug_valid.csv\")\n",
    "test_augmented_df.to_csv(aug_path+\"/aug_test.csv\")"
   ]
  },
  {
   "cell_type": "code",
   "execution_count": 25,
   "metadata": {},
   "outputs": [],
   "source": [
    "# train_augmented_df"
   ]
  },
  {
   "cell_type": "code",
   "execution_count": 26,
   "metadata": {},
   "outputs": [
    {
     "name": "stdout",
     "output_type": "stream",
     "text": [
      "(172639, 12)\n",
      "(57597, 12)\n"
     ]
    }
   ],
   "source": [
    "train_original_df = train_augmented_df[~train_augmented_df[\"augmentation\"].apply(lambda x: 'spatter' in str(x))]\n",
    "val_original_df = val_augmented_df[~val_augmented_df[\"augmentation\"].apply(lambda x: 'spatter' in str(x))]\n",
    "test_original_df = test_augmented_df[~test_augmented_df[\"augmentation\"].apply(lambda x: 'spatter' in str(x))]\n",
    "print(train_augmented_df.shape)\n",
    "print(train_original_df.shape)"
   ]
  },
  {
   "cell_type": "code",
   "execution_count": 27,
   "metadata": {},
   "outputs": [],
   "source": [
    "train_original_df.to_csv(orig_path+\"/orig_train.csv\")\n",
    "val_original_df.to_csv(orig_path+\"/orig_valid.csv\")\n",
    "test_original_df.to_csv(orig_path+\"/orig_test.csv\")"
   ]
  }
 ],
 "metadata": {
  "kernelspec": {
   "display_name": "Python 3 (ipykernel)",
   "language": "python",
   "name": "python3"
  },
  "language_info": {
   "codemirror_mode": {
    "name": "ipython",
    "version": 3
   },
   "file_extension": ".py",
   "mimetype": "text/x-python",
   "name": "python",
   "nbconvert_exporter": "python",
   "pygments_lexer": "ipython3",
   "version": "3.9.16"
  }
 },
 "nbformat": 4,
 "nbformat_minor": 2
}
