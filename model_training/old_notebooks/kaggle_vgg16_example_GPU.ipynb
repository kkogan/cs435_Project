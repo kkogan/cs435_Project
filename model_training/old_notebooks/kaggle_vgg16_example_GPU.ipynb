{
 "cells": [
  {
   "cell_type": "markdown",
   "id": "80bb895e",
   "metadata": {},
   "source": [
    "from https://www.kaggle.com/code/datguyprasham/vgg16-70-30\n",
    "\n",
    "this notebook appears to be test/train splitting the training set.\n",
    "pytorch-lightning"
   ]
  },
  {
   "cell_type": "code",
   "execution_count": 1,
   "id": "5c487813",
   "metadata": {},
   "outputs": [
    {
     "name": "stdout",
     "output_type": "stream",
     "text": [
      "\u001b[?1h\u001b=\r",
      "Currently Loaded Modulefiles:\u001b[m\r\n",
      " 1) courses/cs435/pa3   3) ide/visual-studio-code  \u001b[m\r\n",
      " 2) python/bundle-3.9   4) cuda/11.2               \u001b[m\r\n",
      "\r",
      "\u001b[K\u001b[?1l\u001b>"
     ]
    }
   ],
   "source": [
    "!module list"
   ]
  },
  {
   "cell_type": "code",
   "execution_count": 2,
   "id": "19b5ffbf",
   "metadata": {},
   "outputs": [],
   "source": [
    "import numpy as np\n",
    "import pandas as pd\n",
    "import seaborn as sns\n",
    "import sys\n",
    "import keras\n",
    "import tensorflow as tf\n",
    "import os\n",
    "import glob\n",
    "\n",
    "\n",
    "from tensorflow.keras.applications.vgg16 import VGG16\n",
    "from numpy import load\n",
    "from matplotlib import pyplot\n",
    "from sklearn.model_selection import train_test_split\n",
    "from keras import backend\n",
    "from tensorflow.keras.layers import Dense\n",
    "from tensorflow.keras.layers import Flatten\n",
    "from tensorflow.keras.models import Sequential\n",
    "from tensorflow.keras.layers import Conv2D,MaxPooling2D\n",
    "from tensorflow.keras.optimizers import SGD\n",
    "from tensorflow.keras.models import Model\n",
    "from tensorflow.keras.preprocessing.image import ImageDataGenerator\n",
    "from tensorflow.keras.preprocessing.image import load_img\n",
    "from tensorflow.keras.preprocessing.image import img_to_array\n",
    "from tensorflow.keras.layers import Dropout\n",
    "from tensorflow.keras.layers import BatchNormalization\n",
    "\n",
    "from pprint import pprint\n",
    "\n",
    "\n",
    "from pathlib import Path"
   ]
  },
  {
   "cell_type": "code",
   "execution_count": 3,
   "id": "87e14072",
   "metadata": {},
   "outputs": [
    {
     "name": "stdout",
     "output_type": "stream",
     "text": [
      "Num GPUs Available:  1\n"
     ]
    },
    {
     "name": "stderr",
     "output_type": "stream",
     "text": [
      "2023-11-10 14:16:42.349219: I tensorflow/stream_executor/cuda/cuda_gpu_executor.cc:975] successful NUMA node read from SysFS had negative value (-1), but there must be at least one NUMA node, so returning NUMA node zero\n",
      "2023-11-10 14:16:42.551335: I tensorflow/stream_executor/cuda/cuda_gpu_executor.cc:975] successful NUMA node read from SysFS had negative value (-1), but there must be at least one NUMA node, so returning NUMA node zero\n",
      "2023-11-10 14:16:42.551603: I tensorflow/stream_executor/cuda/cuda_gpu_executor.cc:975] successful NUMA node read from SysFS had negative value (-1), but there must be at least one NUMA node, so returning NUMA node zero\n"
     ]
    }
   ],
   "source": [
    "print(\"Num GPUs Available: \", len(tf.config.experimental.list_physical_devices('GPU')))"
   ]
  },
  {
   "cell_type": "code",
   "execution_count": 4,
   "id": "09d93bc1",
   "metadata": {},
   "outputs": [
    {
     "data": {
      "text/plain": [
       "PosixPath('/s/bach/a/class/cs435/cs435a/CS435_Plant_Data/train')"
      ]
     },
     "execution_count": 4,
     "metadata": {},
     "output_type": "execute_result"
    }
   ],
   "source": [
    "# image_dir = Path(\"../input/new-plant-diseases-dataset/New Plant Diseases Dataset(Augmented)/New Plant Diseases Dataset(Augmented)/train\")\n",
    "image_dir = Path(\"/s/bach/a/class/cs435/cs435a/CS435_Plant_Data/\")\n",
    "train_dir = Path(\"/s/bach/a/class/cs435/cs435a/CS435_Plant_Data/train\")\n",
    "val_dir = Path(\"/s/bach/a/class/cs435/cs435a/CS435_Plant_Data/valid\")\n",
    "test_dir = Path(\"/s/bach/a/class/cs435/cs435a/CS435_Plant_Data/test\")\n",
    "\n",
    "train_dir"
   ]
  },
  {
   "cell_type": "code",
   "execution_count": 6,
   "id": "c249f0fb",
   "metadata": {},
   "outputs": [
    {
     "name": "stdout",
     "output_type": "stream",
     "text": [
      "Found 70295 files belonging to 38 classes.\n",
      "Found 17572 files belonging to 38 classes.\n",
      "Found 0 files belonging to 0 classes.\n"
     ]
    },
    {
     "ename": "ValueError",
     "evalue": "No images found in directory /s/bach/a/class/cs435/cs435a/CS435_Plant_Data/test. Allowed formats: ('.bmp', '.gif', '.jpeg', '.jpg', '.png')",
     "output_type": "error",
     "traceback": [
      "\u001b[0;31m---------------------------------------------------------------------------\u001b[0m",
      "\u001b[0;31mValueError\u001b[0m                                Traceback (most recent call last)",
      "Cell \u001b[0;32mIn[6], line 19\u001b[0m\n\u001b[1;32m      9\u001b[0m train_pipeline \u001b[38;5;241m=\u001b[39m tf\u001b[38;5;241m.\u001b[39mkeras\u001b[38;5;241m.\u001b[39mutils\u001b[38;5;241m.\u001b[39mimage_dataset_from_directory(\n\u001b[1;32m     10\u001b[0m     \u001b[38;5;124mf\u001b[39m\u001b[38;5;124m'\u001b[39m\u001b[38;5;132;01m{\u001b[39;00mtrain_dir\u001b[38;5;132;01m}\u001b[39;00m\u001b[38;5;124m'\u001b[39m,\n\u001b[1;32m     11\u001b[0m     \u001b[38;5;241m*\u001b[39m\u001b[38;5;241m*\u001b[39mpipeline_params\n\u001b[1;32m     12\u001b[0m )\n\u001b[1;32m     14\u001b[0m valid_pipeline \u001b[38;5;241m=\u001b[39m tf\u001b[38;5;241m.\u001b[39mkeras\u001b[38;5;241m.\u001b[39mutils\u001b[38;5;241m.\u001b[39mimage_dataset_from_directory(\n\u001b[1;32m     15\u001b[0m     \u001b[38;5;124mf\u001b[39m\u001b[38;5;124m'\u001b[39m\u001b[38;5;132;01m{\u001b[39;00mval_dir\u001b[38;5;132;01m}\u001b[39;00m\u001b[38;5;124m'\u001b[39m,\n\u001b[1;32m     16\u001b[0m     \u001b[38;5;241m*\u001b[39m\u001b[38;5;241m*\u001b[39mpipeline_params\n\u001b[1;32m     17\u001b[0m )\n\u001b[0;32m---> 19\u001b[0m test_pipeline \u001b[38;5;241m=\u001b[39m \u001b[43mtf\u001b[49m\u001b[38;5;241;43m.\u001b[39;49m\u001b[43mkeras\u001b[49m\u001b[38;5;241;43m.\u001b[39;49m\u001b[43mutils\u001b[49m\u001b[38;5;241;43m.\u001b[39;49m\u001b[43mimage_dataset_from_directory\u001b[49m\u001b[43m(\u001b[49m\n\u001b[1;32m     20\u001b[0m \u001b[43m    \u001b[49m\u001b[38;5;124;43mf\u001b[39;49m\u001b[38;5;124;43m'\u001b[39;49m\u001b[38;5;132;43;01m{\u001b[39;49;00m\u001b[43mtest_dir\u001b[49m\u001b[38;5;132;43;01m}\u001b[39;49;00m\u001b[38;5;124;43m'\u001b[39;49m\u001b[43m,\u001b[49m\n\u001b[1;32m     21\u001b[0m \u001b[43m    \u001b[49m\u001b[38;5;241;43m*\u001b[39;49m\u001b[38;5;241;43m*\u001b[39;49m\u001b[43mpipeline_params\u001b[49m\n\u001b[1;32m     22\u001b[0m \u001b[43m)\u001b[49m\n",
      "File \u001b[0;32m/usr/local/python-env/py39/lib/python3.9/site-packages/keras/utils/image_dataset.py:209\u001b[0m, in \u001b[0;36mimage_dataset_from_directory\u001b[0;34m(directory, labels, label_mode, class_names, color_mode, batch_size, image_size, shuffle, seed, validation_split, subset, interpolation, follow_links, crop_to_aspect_ratio, **kwargs)\u001b[0m\n\u001b[1;32m    206\u001b[0m image_paths, labels \u001b[38;5;241m=\u001b[39m dataset_utils\u001b[38;5;241m.\u001b[39mget_training_or_validation_split(\n\u001b[1;32m    207\u001b[0m     image_paths, labels, validation_split, subset)\n\u001b[1;32m    208\u001b[0m \u001b[38;5;28;01mif\u001b[39;00m \u001b[38;5;129;01mnot\u001b[39;00m image_paths:\n\u001b[0;32m--> 209\u001b[0m   \u001b[38;5;28;01mraise\u001b[39;00m \u001b[38;5;167;01mValueError\u001b[39;00m(\u001b[38;5;124mf\u001b[39m\u001b[38;5;124m'\u001b[39m\u001b[38;5;124mNo images found in directory \u001b[39m\u001b[38;5;132;01m{\u001b[39;00mdirectory\u001b[38;5;132;01m}\u001b[39;00m\u001b[38;5;124m. \u001b[39m\u001b[38;5;124m'\u001b[39m\n\u001b[1;32m    210\u001b[0m                    \u001b[38;5;124mf\u001b[39m\u001b[38;5;124m'\u001b[39m\u001b[38;5;124mAllowed formats: \u001b[39m\u001b[38;5;132;01m{\u001b[39;00mALLOWLIST_FORMATS\u001b[38;5;132;01m}\u001b[39;00m\u001b[38;5;124m'\u001b[39m)\n\u001b[1;32m    212\u001b[0m dataset \u001b[38;5;241m=\u001b[39m paths_and_labels_to_dataset(\n\u001b[1;32m    213\u001b[0m     image_paths\u001b[38;5;241m=\u001b[39mimage_paths,\n\u001b[1;32m    214\u001b[0m     image_size\u001b[38;5;241m=\u001b[39mimage_size,\n\u001b[0;32m   (...)\u001b[0m\n\u001b[1;32m    219\u001b[0m     interpolation\u001b[38;5;241m=\u001b[39minterpolation,\n\u001b[1;32m    220\u001b[0m     crop_to_aspect_ratio\u001b[38;5;241m=\u001b[39mcrop_to_aspect_ratio)\n\u001b[1;32m    221\u001b[0m dataset \u001b[38;5;241m=\u001b[39m dataset\u001b[38;5;241m.\u001b[39mprefetch(tf\u001b[38;5;241m.\u001b[39mdata\u001b[38;5;241m.\u001b[39mAUTOTUNE)\n",
      "\u001b[0;31mValueError\u001b[0m: No images found in directory /s/bach/a/class/cs435/cs435a/CS435_Plant_Data/test. Allowed formats: ('.bmp', '.gif', '.jpeg', '.jpg', '.png')"
     ]
    }
   ],
   "source": [
    "pipeline_params = {\n",
    "    'labels': 'inferred',\n",
    "    'label_mode': 'int',\n",
    "    'batch_size': 16,\n",
    "    'image_size': (224, 224),\n",
    "    'shuffle': True\n",
    "}\n",
    "\n",
    "train_pipeline = tf.keras.utils.image_dataset_from_directory(\n",
    "    f'{train_dir}',\n",
    "    **pipeline_params\n",
    ")\n",
    "\n",
    "valid_pipeline = tf.keras.utils.image_dataset_from_directory(\n",
    "    f'{val_dir}',\n",
    "    **pipeline_params\n",
    ")\n",
    "\n",
    "test_pipeline = tf.keras.utils.image_dataset_from_directory(\n",
    "    f'{test_dir}',\n",
    "    **pipeline_params\n",
    ")"
   ]
  },
  {
   "cell_type": "code",
   "execution_count": 5,
   "id": "5fc1ec22",
   "metadata": {},
   "outputs": [],
   "source": [
    "# filepaths = list(image_dir.glob(r'**/*.JPG'))\n",
    "# labels = list(map(lambda x: os.path.split(os.path.split(x)[0])[1], filepaths))\n",
    "\n",
    "# filepaths = pd.Series(filepaths, name='Filepath').astype(str)\n",
    "# labels = pd.Series(labels, name='Label')\n",
    "\n",
    "# images = pd.concat([filepaths, labels], axis=1)"
   ]
  },
  {
   "cell_type": "code",
   "execution_count": 6,
   "id": "01aefa9f",
   "metadata": {
    "scrolled": false
   },
   "outputs": [
    {
     "data": {
      "text/html": [
       "<div>\n",
       "<style scoped>\n",
       "    .dataframe tbody tr th:only-of-type {\n",
       "        vertical-align: middle;\n",
       "    }\n",
       "\n",
       "    .dataframe tbody tr th {\n",
       "        vertical-align: top;\n",
       "    }\n",
       "\n",
       "    .dataframe thead th {\n",
       "        text-align: right;\n",
       "    }\n",
       "</style>\n",
       "<table border=\"1\" class=\"dataframe\">\n",
       "  <thead>\n",
       "    <tr style=\"text-align: right;\">\n",
       "      <th></th>\n",
       "      <th>Filepath</th>\n",
       "      <th>Label</th>\n",
       "    </tr>\n",
       "  </thead>\n",
       "  <tbody>\n",
       "    <tr>\n",
       "      <th>0</th>\n",
       "      <td>/s/bach/a/class/cs435/cs435a/CS435_Plant_Data/...</td>\n",
       "      <td>Apple___Apple_scab</td>\n",
       "    </tr>\n",
       "    <tr>\n",
       "      <th>1</th>\n",
       "      <td>/s/bach/a/class/cs435/cs435a/CS435_Plant_Data/...</td>\n",
       "      <td>Apple___Apple_scab</td>\n",
       "    </tr>\n",
       "    <tr>\n",
       "      <th>2</th>\n",
       "      <td>/s/bach/a/class/cs435/cs435a/CS435_Plant_Data/...</td>\n",
       "      <td>Apple___Apple_scab</td>\n",
       "    </tr>\n",
       "    <tr>\n",
       "      <th>3</th>\n",
       "      <td>/s/bach/a/class/cs435/cs435a/CS435_Plant_Data/...</td>\n",
       "      <td>Apple___Apple_scab</td>\n",
       "    </tr>\n",
       "    <tr>\n",
       "      <th>4</th>\n",
       "      <td>/s/bach/a/class/cs435/cs435a/CS435_Plant_Data/...</td>\n",
       "      <td>Apple___Apple_scab</td>\n",
       "    </tr>\n",
       "    <tr>\n",
       "      <th>...</th>\n",
       "      <td>...</td>\n",
       "      <td>...</td>\n",
       "    </tr>\n",
       "    <tr>\n",
       "      <th>84849</th>\n",
       "      <td>/s/bach/a/class/cs435/cs435a/CS435_Plant_Data/...</td>\n",
       "      <td>test</td>\n",
       "    </tr>\n",
       "    <tr>\n",
       "      <th>84850</th>\n",
       "      <td>/s/bach/a/class/cs435/cs435a/CS435_Plant_Data/...</td>\n",
       "      <td>test</td>\n",
       "    </tr>\n",
       "    <tr>\n",
       "      <th>84851</th>\n",
       "      <td>/s/bach/a/class/cs435/cs435a/CS435_Plant_Data/...</td>\n",
       "      <td>test</td>\n",
       "    </tr>\n",
       "    <tr>\n",
       "      <th>84852</th>\n",
       "      <td>/s/bach/a/class/cs435/cs435a/CS435_Plant_Data/...</td>\n",
       "      <td>test</td>\n",
       "    </tr>\n",
       "    <tr>\n",
       "      <th>84853</th>\n",
       "      <td>/s/bach/a/class/cs435/cs435a/CS435_Plant_Data/...</td>\n",
       "      <td>test</td>\n",
       "    </tr>\n",
       "  </tbody>\n",
       "</table>\n",
       "<p>84854 rows × 2 columns</p>\n",
       "</div>"
      ],
      "text/plain": [
       "                                                Filepath               Label\n",
       "0      /s/bach/a/class/cs435/cs435a/CS435_Plant_Data/...  Apple___Apple_scab\n",
       "1      /s/bach/a/class/cs435/cs435a/CS435_Plant_Data/...  Apple___Apple_scab\n",
       "2      /s/bach/a/class/cs435/cs435a/CS435_Plant_Data/...  Apple___Apple_scab\n",
       "3      /s/bach/a/class/cs435/cs435a/CS435_Plant_Data/...  Apple___Apple_scab\n",
       "4      /s/bach/a/class/cs435/cs435a/CS435_Plant_Data/...  Apple___Apple_scab\n",
       "...                                                  ...                 ...\n",
       "84849  /s/bach/a/class/cs435/cs435a/CS435_Plant_Data/...                test\n",
       "84850  /s/bach/a/class/cs435/cs435a/CS435_Plant_Data/...                test\n",
       "84851  /s/bach/a/class/cs435/cs435a/CS435_Plant_Data/...                test\n",
       "84852  /s/bach/a/class/cs435/cs435a/CS435_Plant_Data/...                test\n",
       "84853  /s/bach/a/class/cs435/cs435a/CS435_Plant_Data/...                test\n",
       "\n",
       "[84854 rows x 2 columns]"
      ]
     },
     "execution_count": 6,
     "metadata": {},
     "output_type": "execute_result"
    }
   ],
   "source": [
    "# images"
   ]
  },
  {
   "cell_type": "code",
   "execution_count": 9,
   "id": "ffc43b74",
   "metadata": {},
   "outputs": [],
   "source": [
    "# train_df, test_df = train_test_split(images, train_size=0.7, shuffle=True, random_state=1)"
   ]
  },
  {
   "cell_type": "code",
   "execution_count": 10,
   "id": "bcfec837",
   "metadata": {},
   "outputs": [],
   "source": [
    "# local_weights_file = '../input/inceptionv3-imagenet-weights/inception_v3_weights.h5' #what is this"
   ]
  },
  {
   "cell_type": "code",
   "execution_count": 11,
   "id": "254843ef",
   "metadata": {},
   "outputs": [],
   "source": [
    "train_datagen = ImageDataGenerator(\n",
    "    rescale=1/255,\n",
    "    width_shift_range=0.2,\n",
    "    height_shift_range=0.2,\n",
    "    zoom_range=0.2,\n",
    "    shear_range=0.2,\n",
    "    fill_mode='nearest',\n",
    "    validation_split=0.2\n",
    ")\n",
    "\n",
    "test_datagen = ImageDataGenerator(rescale=1/255)"
   ]
  },
  {
   "cell_type": "code",
   "execution_count": 12,
   "id": "a6aa6e96",
   "metadata": {},
   "outputs": [],
   "source": [
    "batch_size = 32"
   ]
  },
  {
   "cell_type": "code",
   "execution_count": 13,
   "id": "51cb7f70",
   "metadata": {},
   "outputs": [
    {
     "name": "stdout",
     "output_type": "stream",
     "text": [
      "Found 37995 validated image filenames belonging to 38 classes.\n",
      "Found 9498 validated image filenames belonging to 38 classes.\n",
      "Found 20355 validated image filenames belonging to 38 classes.\n"
     ]
    }
   ],
   "source": [
    "train_generator = train_datagen.flow_from_dataframe(\n",
    "    dataframe=train_df,\n",
    "    x_col='Filepath',\n",
    "    y_col='Label',\n",
    "    batch_size=batch_size,\n",
    "    class_mode='categorical',\n",
    "    target_size=(150, 150),\n",
    "    color_mode=\"rgb\",\n",
    "    shuffle=True,\n",
    "    subset='training'\n",
    ")\n",
    "\n",
    "validation_generator =  train_datagen.flow_from_dataframe(\n",
    "    dataframe=train_df,\n",
    "    x_col='Filepath',\n",
    "    y_col='Label',\n",
    "    batch_size=batch_size,\n",
    "    class_mode='categorical',\n",
    "    target_size=(150, 150),\n",
    "    color_mode=\"rgb\",\n",
    "    shuffle=True,\n",
    "    subset='validation'\n",
    ")\n",
    "\n",
    "test_generator = test_datagen.flow_from_dataframe(\n",
    "    dataframe=test_df,\n",
    "    x_col='Filepath',\n",
    "    y_col='Label',\n",
    "    batch_size=batch_size,\n",
    "    class_mode='categorical',\n",
    "    target_size=(150, 150),\n",
    "    color_mode=\"rgb\",\n",
    "    shuffle=False\n",
    ")"
   ]
  },
  {
   "cell_type": "code",
   "execution_count": 14,
   "id": "b7223a55",
   "metadata": {},
   "outputs": [
    {
     "name": "stdout",
     "output_type": "stream",
     "text": [
      "{'Apple___Apple_scab': 0,\n",
      " 'Apple___Black_rot': 1,\n",
      " 'Apple___Cedar_apple_rust': 2,\n",
      " 'Apple___healthy': 3,\n",
      " 'Blueberry___healthy': 4,\n",
      " 'Cherry_(including_sour)___Powdery_mildew': 5,\n",
      " 'Cherry_(including_sour)___healthy': 6,\n",
      " 'Corn_(maize)___Cercospora_leaf_spot Gray_leaf_spot': 7,\n",
      " 'Corn_(maize)___Common_rust_': 8,\n",
      " 'Corn_(maize)___Northern_Leaf_Blight': 9,\n",
      " 'Corn_(maize)___healthy': 10,\n",
      " 'Grape___Black_rot': 11,\n",
      " 'Grape___Esca_(Black_Measles)': 12,\n",
      " 'Grape___Leaf_blight_(Isariopsis_Leaf_Spot)': 13,\n",
      " 'Grape___healthy': 14,\n",
      " 'Orange___Haunglongbing_(Citrus_greening)': 15,\n",
      " 'Peach___Bacterial_spot': 16,\n",
      " 'Peach___healthy': 17,\n",
      " 'Pepper,_bell___Bacterial_spot': 18,\n",
      " 'Pepper,_bell___healthy': 19,\n",
      " 'Potato___Early_blight': 20,\n",
      " 'Potato___Late_blight': 21,\n",
      " 'Potato___healthy': 22,\n",
      " 'Raspberry___healthy': 23,\n",
      " 'Soybean___healthy': 24,\n",
      " 'Squash___Powdery_mildew': 25,\n",
      " 'Strawberry___Leaf_scorch': 26,\n",
      " 'Strawberry___healthy': 27,\n",
      " 'Tomato___Bacterial_spot': 28,\n",
      " 'Tomato___Early_blight': 29,\n",
      " 'Tomato___Late_blight': 30,\n",
      " 'Tomato___Leaf_Mold': 31,\n",
      " 'Tomato___Septoria_leaf_spot': 32,\n",
      " 'Tomato___Spider_mites Two-spotted_spider_mite': 33,\n",
      " 'Tomato___Target_Spot': 34,\n",
      " 'Tomato___Tomato_Yellow_Leaf_Curl_Virus': 35,\n",
      " 'Tomato___Tomato_mosaic_virus': 36,\n",
      " 'Tomato___healthy': 37}\n"
     ]
    }
   ],
   "source": [
    "class_dict = train_generator.class_indices\n",
    "pprint(class_dict)"
   ]
  },
  {
   "cell_type": "code",
   "execution_count": 15,
   "id": "ede3603a",
   "metadata": {},
   "outputs": [],
   "source": [
    "train_num = train_generator.samples\n",
    "valid_num = validation_generator.samples"
   ]
  },
  {
   "cell_type": "code",
   "execution_count": 16,
   "id": "5f15beb5",
   "metadata": {},
   "outputs": [
    {
     "name": "stderr",
     "output_type": "stream",
     "text": [
      "2023-11-10 12:28:57.066663: I tensorflow/core/platform/cpu_feature_guard.cc:193] This TensorFlow binary is optimized with oneAPI Deep Neural Network Library (oneDNN) to use the following CPU instructions in performance-critical operations:  AVX2 FMA\n",
      "To enable them in other operations, rebuild TensorFlow with the appropriate compiler flags.\n",
      "2023-11-10 12:28:57.068824: I tensorflow/stream_executor/cuda/cuda_gpu_executor.cc:975] successful NUMA node read from SysFS had negative value (-1), but there must be at least one NUMA node, so returning NUMA node zero\n",
      "2023-11-10 12:28:57.069027: I tensorflow/stream_executor/cuda/cuda_gpu_executor.cc:975] successful NUMA node read from SysFS had negative value (-1), but there must be at least one NUMA node, so returning NUMA node zero\n",
      "2023-11-10 12:28:57.069162: I tensorflow/stream_executor/cuda/cuda_gpu_executor.cc:975] successful NUMA node read from SysFS had negative value (-1), but there must be at least one NUMA node, so returning NUMA node zero\n",
      "2023-11-10 12:28:59.044287: I tensorflow/stream_executor/cuda/cuda_gpu_executor.cc:975] successful NUMA node read from SysFS had negative value (-1), but there must be at least one NUMA node, so returning NUMA node zero\n",
      "2023-11-10 12:28:59.044461: I tensorflow/stream_executor/cuda/cuda_gpu_executor.cc:975] successful NUMA node read from SysFS had negative value (-1), but there must be at least one NUMA node, so returning NUMA node zero\n",
      "2023-11-10 12:28:59.044608: I tensorflow/stream_executor/cuda/cuda_gpu_executor.cc:975] successful NUMA node read from SysFS had negative value (-1), but there must be at least one NUMA node, so returning NUMA node zero\n",
      "2023-11-10 12:28:59.044725: I tensorflow/core/common_runtime/gpu/gpu_device.cc:1532] Created device /job:localhost/replica:0/task:0/device:GPU:0 with 10537 MB memory:  -> device: 0, name: NVIDIA TITAN V, pci bus id: 0000:02:00.0, compute capability: 7.0\n"
     ]
    }
   ],
   "source": [
    "# # Creating Instence of pre-trained model from Keras Application\n",
    "# vgg_model = VGG16(input_shape=(150, 150, 3),\n",
    "#                                 include_top=False,\n",
    "#                                 weights=None)\n",
    "\n",
    "# inception_model.load_weights(local_weights_file)\n",
    "\n",
    "base_model=tf.keras.applications.VGG16(weights=\"imagenet\",include_top=False,input_shape=(150,150,3))\n",
    "base_model.trainable=False"
   ]
  },
  {
   "cell_type": "code",
   "execution_count": 17,
   "id": "7c0dc3b9",
   "metadata": {},
   "outputs": [
    {
     "name": "stdout",
     "output_type": "stream",
     "text": [
      "Model: \"sequential\"\n",
      "_________________________________________________________________\n",
      " Layer (type)                Output Shape              Param #   \n",
      "=================================================================\n",
      " vgg16 (Functional)          (None, 4, 4, 512)         14714688  \n",
      "                                                                 \n",
      " flatten (Flatten)           (None, 8192)              0         \n",
      "                                                                 \n",
      " dense (Dense)               (None, 4096)              33558528  \n",
      "                                                                 \n",
      " dense_1 (Dense)             (None, 4096)              16781312  \n",
      "                                                                 \n",
      " dense_2 (Dense)             (None, 38)                155686    \n",
      "                                                                 \n",
      "=================================================================\n",
      "Total params: 65,210,214\n",
      "Trainable params: 50,495,526\n",
      "Non-trainable params: 14,714,688\n",
      "_________________________________________________________________\n"
     ]
    }
   ],
   "source": [
    "vgg_model=keras.models.Sequential()\n",
    "vgg_model.add(base_model)\n",
    "vgg_model.add(Flatten())\n",
    "vgg_model.add(Dense(4096,activation='relu'))\n",
    "vgg_model.add(Dense(4096,activation='relu'))\n",
    "vgg_model.add(Dense(38,activation='softmax'))\n",
    "vgg_model.summary()"
   ]
  },
  {
   "cell_type": "code",
   "execution_count": 18,
   "id": "a8472bba",
   "metadata": {},
   "outputs": [],
   "source": [
    "vgg_model.compile(optimizer='adam',loss='categorical_crossentropy',metrics=['accuracy'])"
   ]
  },
  {
   "cell_type": "code",
   "execution_count": 20,
   "id": "0ec6df30",
   "metadata": {},
   "outputs": [],
   "source": [
    "from keras.callbacks import EarlyStopping\n",
    "\n",
    "earlystopping = EarlyStopping(monitor='val_accuracy',\n",
    "                              min_delta=.1,\n",
    "                              patience=3,\n",
    "                              mode='max',\n",
    "                              restore_best_weights=True\n",
    "                              )"
   ]
  },
  {
   "cell_type": "code",
   "execution_count": 21,
   "id": "c933f6ba",
   "metadata": {},
   "outputs": [
    {
     "name": "stderr",
     "output_type": "stream",
     "text": [
      "2023-11-10 12:29:24.129916: I tensorflow/stream_executor/cuda/cuda_dnn.cc:384] Loaded cuDNN version 8201\n"
     ]
    },
    {
     "name": "stdout",
     "output_type": "stream",
     "text": [
      "1187/1187 [==============================] - 480s 396ms/step - loss: 1.1138 - accuracy: 0.6566 - val_loss: 0.6436 - val_accuracy: 0.7845\n"
     ]
    }
   ],
   "source": [
    "import scipy\n",
    "history = vgg_model.fit(\n",
    "    train_generator,\n",
    "    steps_per_epoch=train_num//batch_size,\n",
    "    validation_data=validation_generator,\n",
    "    epochs=1,\n",
    "    validation_steps=valid_num//batch_size,\n",
    "    callbacks=[earlystopping]\n",
    ")"
   ]
  },
  {
   "cell_type": "code",
   "execution_count": 22,
   "id": "b1648b42",
   "metadata": {},
   "outputs": [],
   "source": [
    "# filepath=\"Mymodel.h5\"\n",
    "# vgg_model.save(filepath)"
   ]
  },
  {
   "cell_type": "code",
   "execution_count": 23,
   "id": "37d35369",
   "metadata": {
    "scrolled": true
   },
   "outputs": [
    {
     "name": "stderr",
     "output_type": "stream",
     "text": [
      "/tmp/ipykernel_1981676/3650955483.py:4: UserWarning: `Model.predict_generator` is deprecated and will be removed in a future version. Please use `Model.predict`, which supports generators.\n",
      "  pred = vgg_model.predict_generator(\n"
     ]
    },
    {
     "name": "stdout",
     "output_type": "stream",
     "text": [
      "637/637 [==============================] - 125s 196ms/step\n",
      "Test accuracy: 0.8214197985752886\n"
     ]
    }
   ],
   "source": [
    "from sklearn.metrics import accuracy_score\n",
    "\n",
    "test_generator.reset()\n",
    "pred = vgg_model.predict_generator(\n",
    "    test_generator,\n",
    "    verbose=1\n",
    ")\n",
    "\n",
    "predicted_class_indices = np.argmax(pred, axis=1)\n",
    "true_class_indices = test_generator.classes\n",
    "\n",
    "test_acc = accuracy_score(true_class_indices, predicted_class_indices)\n",
    "print('Test accuracy:', test_acc)"
   ]
  },
  {
   "cell_type": "code",
   "execution_count": 24,
   "id": "b1080347",
   "metadata": {},
   "outputs": [
    {
     "name": "stdout",
     "output_type": "stream",
     "text": [
      "                                                    precision    recall  f1-score   support\n",
      "\n",
      "                                Apple___Apple_scab       0.79      0.82      0.80       638\n",
      "                                 Apple___Black_rot       0.78      0.91      0.84       601\n",
      "                          Apple___Cedar_apple_rust       0.91      0.73      0.81       536\n",
      "                                   Apple___healthy       0.82      0.89      0.85       627\n",
      "                               Blueberry___healthy       0.87      0.91      0.89       567\n",
      "          Cherry_(including_sour)___Powdery_mildew       0.98      0.83      0.90       492\n",
      "                 Cherry_(including_sour)___healthy       0.85      0.99      0.92       539\n",
      "Corn_(maize)___Cercospora_leaf_spot Gray_leaf_spot       0.94      0.82      0.88       420\n",
      "                       Corn_(maize)___Common_rust_       0.96      1.00      0.98       569\n",
      "               Corn_(maize)___Northern_Leaf_Blight       0.88      0.89      0.88       491\n",
      "                            Corn_(maize)___healthy       1.00      0.40      0.57         5\n",
      "                                 Grape___Black_rot       0.69      0.84      0.76       546\n",
      "                      Grape___Esca_(Black_Measles)       0.82      0.63      0.71       566\n",
      "        Grape___Leaf_blight_(Isariopsis_Leaf_Spot)       0.91      0.98      0.94       490\n",
      "                                   Grape___healthy       0.97      0.96      0.96       520\n",
      "          Orange___Haunglongbing_(Citrus_greening)       0.98      0.95      0.96       602\n",
      "                            Peach___Bacterial_spot       0.97      0.74      0.84       535\n",
      "                                   Peach___healthy       0.78      0.95      0.86       502\n",
      "                     Pepper,_bell___Bacterial_spot       0.88      0.65      0.75       577\n",
      "                            Pepper,_bell___healthy       0.74      0.89      0.80       598\n",
      "                             Potato___Early_blight       0.87      0.85      0.86       584\n",
      "                              Potato___Late_blight       0.56      0.73      0.63       591\n",
      "                                  Potato___healthy       0.64      0.87      0.74       525\n",
      "                               Raspberry___healthy       0.90      0.91      0.90       540\n",
      "                                 Soybean___healthy       0.94      0.89      0.91       596\n",
      "                           Squash___Powdery_mildew       0.98      0.88      0.93       507\n",
      "                          Strawberry___Leaf_scorch       0.98      0.90      0.94       560\n",
      "                              Strawberry___healthy       0.74      0.98      0.84       540\n",
      "                           Tomato___Bacterial_spot       0.80      0.83      0.81       521\n",
      "                             Tomato___Early_blight       0.69      0.50      0.58       614\n",
      "                              Tomato___Late_blight       0.65      0.61      0.63       514\n",
      "                                Tomato___Leaf_Mold       0.89      0.63      0.73       574\n",
      "                       Tomato___Septoria_leaf_spot       0.76      0.50      0.60       511\n",
      "     Tomato___Spider_mites Two-spotted_spider_mite       0.70      0.68      0.69       511\n",
      "                              Tomato___Target_Spot       0.58      0.67      0.62       562\n",
      "            Tomato___Tomato_Yellow_Leaf_Curl_Virus       0.92      0.85      0.88       572\n",
      "                      Tomato___Tomato_mosaic_virus       0.92      0.89      0.91       543\n",
      "                                  Tomato___healthy       0.81      0.88      0.84       569\n",
      "\n",
      "                                          accuracy                           0.82     20355\n",
      "                                         macro avg       0.84      0.81      0.81     20355\n",
      "                                      weighted avg       0.83      0.82      0.82     20355\n",
      "\n"
     ]
    }
   ],
   "source": [
    "from sklearn.metrics import classification_report\n",
    "\n",
    "true_labels = test_generator.labels\n",
    "\n",
    "report = classification_report(true_labels, predicted_class_indices, target_names=test_generator.class_indices)\n",
    "print(report)"
   ]
  },
  {
   "cell_type": "code",
   "execution_count": 25,
   "id": "86de4fbe",
   "metadata": {},
   "outputs": [
    {
     "data": {
      "image/png": "[encoded data removed]",
      "text/plain": [
       "<Figure size 640x480 with 1 Axes>"
      ]
     },
     "metadata": {},
     "output_type": "display_data"
    },
    {
     "data": {
      "image/png": "[encoded data removed]",
      "text/plain": [
       "<Figure size 640x480 with 1 Axes>"
      ]
     },
     "metadata": {},
     "output_type": "display_data"
    }
   ],
   "source": [
    "# Plotting accuracy vs epochs\n",
    "import matplotlib.pyplot as plt\n",
    "acc = history.history['accuracy']\n",
    "val_acc = history.history['val_accuracy']\n",
    "epochs = range(1, len(acc) + 1)\n",
    "\n",
    "plt.plot(epochs, acc, 'b', label='Training accuracy')\n",
    "plt.plot(epochs, val_acc, 'r', label='Validation accuracy')\n",
    "plt.title('Training and validation accuracy')\n",
    "plt.xlabel('Epochs')\n",
    "plt.ylabel('Accuracy')\n",
    "plt.legend()\n",
    "plt.show()\n",
    "\n",
    "# Plotting loss vs epochs\n",
    "loss = history.history['loss']\n",
    "val_loss = history.history['val_loss']\n",
    "\n",
    "plt.plot(epochs, loss, 'b', label='Training loss')\n",
    "plt.plot(epochs, val_loss, 'r', label='Validation loss')\n",
    "plt.title('Training and validation loss')\n",
    "plt.xlabel('Epochs')\n",
    "plt.ylabel('Loss')\n",
    "plt.legend()\n",
    "plt.show()"
   ]
  },
  {
   "cell_type": "code",
   "execution_count": 26,
   "id": "ef0d4e4b",
   "metadata": {},
   "outputs": [],
   "source": [
    "data = {'acc': acc, 'loss': loss, 'val_acc': val_acc, 'val_loss': val_loss}\n",
    "df = pd.DataFrame(data)\n",
    "\n",
    "df.to_csv('InceptionV3-80_20.csv', index=False)"
   ]
  },
  {
   "cell_type": "code",
   "execution_count": 27,
   "id": "b3e2a6f1",
   "metadata": {},
   "outputs": [
    {
     "name": "stdout",
     "output_type": "stream",
     "text": [
      "Mean acc:  0.6566393375396729\n",
      "Mean val acc:  0.7845228314399719\n",
      "Mean loss:  1.1138005256652832\n",
      "Mean val loss:  0.6436247825622559\n"
     ]
    }
   ],
   "source": [
    "avg_acc = sum(df['acc']) / len(df['acc'])\n",
    "avg_val_acc = sum(df['val_acc']) / len(df['val_acc'])\n",
    "\n",
    "avg_loss = sum(df['loss']) / len(df['loss'])\n",
    "avg_val_loss = sum(df['val_loss']) / len(df['val_loss'])\n",
    "\n",
    "print('Mean acc: ', avg_acc)\n",
    "print('Mean val acc: ', avg_val_acc)\n",
    "\n",
    "print('Mean loss: ', avg_loss)\n",
    "print('Mean val loss: ', avg_val_loss)"
   ]
  },
  {
   "cell_type": "code",
   "execution_count": null,
   "id": "1909d235-204e-4a41-9984-42ac4a5e95d4",
   "metadata": {},
   "outputs": [],
   "source": []
  }
 ],
 "metadata": {
  "kernelspec": {
   "display_name": "Python 3 (ipykernel)",
   "language": "python",
   "name": "python3"
  },
  "language_info": {
   "codemirror_mode": {
    "name": "ipython",
    "version": 3
   },
   "file_extension": ".py",
   "mimetype": "text/x-python",
   "name": "python",
   "nbconvert_exporter": "python",
   "pygments_lexer": "ipython3",
   "version": "3.9.16"
  }
 },
 "nbformat": 4,
 "nbformat_minor": 5
}
