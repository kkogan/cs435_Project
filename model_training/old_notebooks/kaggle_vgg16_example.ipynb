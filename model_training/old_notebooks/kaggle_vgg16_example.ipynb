{
 "cells": [
  {
   "cell_type": "markdown",
   "id": "80bb895e",
   "metadata": {},
   "source": [
    "from https://www.kaggle.com/code/datguyprasham/vgg16-70-30\n",
    "\n",
    "this notebook appears to be test/train splitting the training set."
   ]
  },
  {
   "cell_type": "code",
   "execution_count": 1,
   "id": "19b5ffbf",
   "metadata": {},
   "outputs": [
    {
     "name": "stderr",
     "output_type": "stream",
     "text": [
      "2023-11-06 12:26:02.192907: I tensorflow/core/util/port.cc:111] oneDNN custom operations are on. You may see slightly different numerical results due to floating-point round-off errors from different computation orders. To turn them off, set the environment variable `TF_ENABLE_ONEDNN_OPTS=0`.\n",
      "2023-11-06 12:26:02.194656: I tensorflow/tsl/cuda/cudart_stub.cc:28] Could not find cuda drivers on your machine, GPU will not be used.\n",
      "2023-11-06 12:26:02.214476: E tensorflow/compiler/xla/stream_executor/cuda/cuda_dnn.cc:9342] Unable to register cuDNN factory: Attempting to register factory for plugin cuDNN when one has already been registered\n",
      "2023-11-06 12:26:02.214491: E tensorflow/compiler/xla/stream_executor/cuda/cuda_fft.cc:609] Unable to register cuFFT factory: Attempting to register factory for plugin cuFFT when one has already been registered\n",
      "2023-11-06 12:26:02.214506: E tensorflow/compiler/xla/stream_executor/cuda/cuda_blas.cc:1518] Unable to register cuBLAS factory: Attempting to register factory for plugin cuBLAS when one has already been registered\n",
      "2023-11-06 12:26:02.218814: I tensorflow/tsl/cuda/cudart_stub.cc:28] Could not find cuda drivers on your machine, GPU will not be used.\n",
      "2023-11-06 12:26:02.219249: I tensorflow/core/platform/cpu_feature_guard.cc:182] This TensorFlow binary is optimized to use available CPU instructions in performance-critical operations.\n",
      "To enable the following instructions: AVX2 AVX_VNNI FMA, in other operations, rebuild TensorFlow with the appropriate compiler flags.\n",
      "2023-11-06 12:26:03.052797: W tensorflow/compiler/tf2tensorrt/utils/py_utils.cc:38] TF-TRT Warning: Could not find TensorRT\n"
     ]
    }
   ],
   "source": [
    "import numpy as np\n",
    "import pandas as pd\n",
    "import seaborn as sns\n",
    "import sys\n",
    "import keras\n",
    "import tensorflow as tf\n",
    "import os\n",
    "import glob\n",
    "\n",
    "\n",
    "from tensorflow.keras.applications.vgg16 import VGG16\n",
    "from numpy import load\n",
    "from matplotlib import pyplot\n",
    "from sklearn.model_selection import train_test_split\n",
    "from keras import backend\n",
    "from tensorflow.keras.layers import Dense\n",
    "from tensorflow.keras.layers import Flatten\n",
    "from tensorflow.keras.models import Sequential\n",
    "from tensorflow.keras.layers import Conv2D,MaxPooling2D\n",
    "from tensorflow.keras.optimizers import SGD\n",
    "from tensorflow.keras.models import Model\n",
    "from tensorflow.keras.preprocessing.image import ImageDataGenerator\n",
    "from tensorflow.keras.preprocessing.image import load_img\n",
    "from tensorflow.keras.preprocessing.image import img_to_array\n",
    "from tensorflow.keras.layers import Dropout\n",
    "from tensorflow.keras.layers import BatchNormalization\n",
    "\n",
    "from pprint import pprint\n",
    "\n",
    "\n",
    "from pathlib import Path"
   ]
  },
  {
   "cell_type": "code",
   "execution_count": 2,
   "id": "09d93bc1",
   "metadata": {},
   "outputs": [
    {
     "data": {
      "text/plain": [
       "PosixPath('/s/bach/a/class/cs435/cs435a/CS435_Plant_Data/train')"
      ]
     },
     "execution_count": 2,
     "metadata": {},
     "output_type": "execute_result"
    }
   ],
   "source": [
    "# image_dir = Path(\"../input/new-plant-diseases-dataset/New Plant Diseases Dataset(Augmented)/New Plant Diseases Dataset(Augmented)/train\")\n",
    "image_dir = Path(\"/s/bach/a/class/cs435/cs435a/CS435_Plant_Data/train\")\n",
    "\n",
    "image_dir"
   ]
  },
  {
   "cell_type": "code",
   "execution_count": 3,
   "id": "5fc1ec22",
   "metadata": {},
   "outputs": [],
   "source": [
    "filepaths = list(image_dir.glob(r'**/*.JPG'))\n",
    "labels = list(map(lambda x: os.path.split(os.path.split(x)[0])[1], filepaths))\n",
    "\n",
    "filepaths = pd.Series(filepaths, name='Filepath').astype(str)\n",
    "labels = pd.Series(labels, name='Label')\n",
    "\n",
    "images = pd.concat([filepaths, labels], axis=1)"
   ]
  },
  {
   "cell_type": "code",
   "execution_count": 4,
   "id": "01aefa9f",
   "metadata": {},
   "outputs": [
    {
     "data": {
      "text/html": [
       "<div>\n",
       "<style scoped>\n",
       "    .dataframe tbody tr th:only-of-type {\n",
       "        vertical-align: middle;\n",
       "    }\n",
       "\n",
       "    .dataframe tbody tr th {\n",
       "        vertical-align: top;\n",
       "    }\n",
       "\n",
       "    .dataframe thead th {\n",
       "        text-align: right;\n",
       "    }\n",
       "</style>\n",
       "<table border=\"1\" class=\"dataframe\">\n",
       "  <thead>\n",
       "    <tr style=\"text-align: right;\">\n",
       "      <th></th>\n",
       "      <th>Filepath</th>\n",
       "      <th>Label</th>\n",
       "    </tr>\n",
       "  </thead>\n",
       "  <tbody>\n",
       "    <tr>\n",
       "      <th>0</th>\n",
       "      <td>/s/bach/a/class/cs435/cs435a/CS435_Plant_Data/...</td>\n",
       "      <td>Apple___Apple_scab</td>\n",
       "    </tr>\n",
       "    <tr>\n",
       "      <th>1</th>\n",
       "      <td>/s/bach/a/class/cs435/cs435a/CS435_Plant_Data/...</td>\n",
       "      <td>Apple___Apple_scab</td>\n",
       "    </tr>\n",
       "    <tr>\n",
       "      <th>2</th>\n",
       "      <td>/s/bach/a/class/cs435/cs435a/CS435_Plant_Data/...</td>\n",
       "      <td>Apple___Apple_scab</td>\n",
       "    </tr>\n",
       "    <tr>\n",
       "      <th>3</th>\n",
       "      <td>/s/bach/a/class/cs435/cs435a/CS435_Plant_Data/...</td>\n",
       "      <td>Apple___Apple_scab</td>\n",
       "    </tr>\n",
       "    <tr>\n",
       "      <th>4</th>\n",
       "      <td>/s/bach/a/class/cs435/cs435a/CS435_Plant_Data/...</td>\n",
       "      <td>Apple___Apple_scab</td>\n",
       "    </tr>\n",
       "    <tr>\n",
       "      <th>...</th>\n",
       "      <td>...</td>\n",
       "      <td>...</td>\n",
       "    </tr>\n",
       "    <tr>\n",
       "      <th>67843</th>\n",
       "      <td>/s/bach/a/class/cs435/cs435a/CS435_Plant_Data/...</td>\n",
       "      <td>Pepper,_bell___healthy</td>\n",
       "    </tr>\n",
       "    <tr>\n",
       "      <th>67844</th>\n",
       "      <td>/s/bach/a/class/cs435/cs435a/CS435_Plant_Data/...</td>\n",
       "      <td>Pepper,_bell___healthy</td>\n",
       "    </tr>\n",
       "    <tr>\n",
       "      <th>67845</th>\n",
       "      <td>/s/bach/a/class/cs435/cs435a/CS435_Plant_Data/...</td>\n",
       "      <td>Pepper,_bell___healthy</td>\n",
       "    </tr>\n",
       "    <tr>\n",
       "      <th>67846</th>\n",
       "      <td>/s/bach/a/class/cs435/cs435a/CS435_Plant_Data/...</td>\n",
       "      <td>Pepper,_bell___healthy</td>\n",
       "    </tr>\n",
       "    <tr>\n",
       "      <th>67847</th>\n",
       "      <td>/s/bach/a/class/cs435/cs435a/CS435_Plant_Data/...</td>\n",
       "      <td>Pepper,_bell___healthy</td>\n",
       "    </tr>\n",
       "  </tbody>\n",
       "</table>\n",
       "<p>67848 rows × 2 columns</p>\n",
       "</div>"
      ],
      "text/plain": [
       "                                                Filepath  \\\n",
       "0      /s/bach/a/class/cs435/cs435a/CS435_Plant_Data/...   \n",
       "1      /s/bach/a/class/cs435/cs435a/CS435_Plant_Data/...   \n",
       "2      /s/bach/a/class/cs435/cs435a/CS435_Plant_Data/...   \n",
       "3      /s/bach/a/class/cs435/cs435a/CS435_Plant_Data/...   \n",
       "4      /s/bach/a/class/cs435/cs435a/CS435_Plant_Data/...   \n",
       "...                                                  ...   \n",
       "67843  /s/bach/a/class/cs435/cs435a/CS435_Plant_Data/...   \n",
       "67844  /s/bach/a/class/cs435/cs435a/CS435_Plant_Data/...   \n",
       "67845  /s/bach/a/class/cs435/cs435a/CS435_Plant_Data/...   \n",
       "67846  /s/bach/a/class/cs435/cs435a/CS435_Plant_Data/...   \n",
       "67847  /s/bach/a/class/cs435/cs435a/CS435_Plant_Data/...   \n",
       "\n",
       "                        Label  \n",
       "0          Apple___Apple_scab  \n",
       "1          Apple___Apple_scab  \n",
       "2          Apple___Apple_scab  \n",
       "3          Apple___Apple_scab  \n",
       "4          Apple___Apple_scab  \n",
       "...                       ...  \n",
       "67843  Pepper,_bell___healthy  \n",
       "67844  Pepper,_bell___healthy  \n",
       "67845  Pepper,_bell___healthy  \n",
       "67846  Pepper,_bell___healthy  \n",
       "67847  Pepper,_bell___healthy  \n",
       "\n",
       "[67848 rows x 2 columns]"
      ]
     },
     "execution_count": 4,
     "metadata": {},
     "output_type": "execute_result"
    }
   ],
   "source": [
    "images"
   ]
  },
  {
   "cell_type": "code",
   "execution_count": 5,
   "id": "ffc43b74",
   "metadata": {},
   "outputs": [],
   "source": [
    "train_df, test_df = train_test_split(images, train_size=0.7, shuffle=True, random_state=1)"
   ]
  },
  {
   "cell_type": "code",
   "execution_count": 6,
   "id": "bcfec837",
   "metadata": {},
   "outputs": [],
   "source": [
    "# local_weights_file = '../input/inceptionv3-imagenet-weights/inception_v3_weights.h5' #what is this"
   ]
  },
  {
   "cell_type": "code",
   "execution_count": 7,
   "id": "254843ef",
   "metadata": {},
   "outputs": [],
   "source": [
    "train_datagen = ImageDataGenerator(\n",
    "    rescale=1/255,\n",
    "    width_shift_range=0.2,\n",
    "    height_shift_range=0.2,\n",
    "    zoom_range=0.2,\n",
    "    shear_range=0.2,\n",
    "    fill_mode='nearest',\n",
    "    validation_split=0.2\n",
    ")\n",
    "\n",
    "test_datagen = ImageDataGenerator(rescale=1/255)"
   ]
  },
  {
   "cell_type": "code",
   "execution_count": 8,
   "id": "a6aa6e96",
   "metadata": {},
   "outputs": [],
   "source": [
    "batch_size = 32"
   ]
  },
  {
   "cell_type": "code",
   "execution_count": 9,
   "id": "51cb7f70",
   "metadata": {},
   "outputs": [
    {
     "name": "stdout",
     "output_type": "stream",
     "text": [
      "Found 37995 validated image filenames belonging to 38 classes.\n",
      "Found 9498 validated image filenames belonging to 38 classes.\n",
      "Found 20355 validated image filenames belonging to 38 classes.\n"
     ]
    }
   ],
   "source": [
    "train_generator = train_datagen.flow_from_dataframe(\n",
    "    dataframe=train_df,\n",
    "    x_col='Filepath',\n",
    "    y_col='Label',\n",
    "    batch_size=batch_size,\n",
    "    class_mode='categorical',\n",
    "    target_size=(150, 150),\n",
    "    color_mode=\"rgb\",\n",
    "    shuffle=True,\n",
    "    subset='training'\n",
    ")\n",
    "\n",
    "validation_generator =  train_datagen.flow_from_dataframe(\n",
    "    dataframe=train_df,\n",
    "    x_col='Filepath',\n",
    "    y_col='Label',\n",
    "    batch_size=batch_size,\n",
    "    class_mode='categorical',\n",
    "    target_size=(150, 150),\n",
    "    color_mode=\"rgb\",\n",
    "    shuffle=True,\n",
    "    subset='validation'\n",
    ")\n",
    "\n",
    "test_generator = test_datagen.flow_from_dataframe(\n",
    "    dataframe=test_df,\n",
    "    x_col='Filepath',\n",
    "    y_col='Label',\n",
    "    batch_size=batch_size,\n",
    "    class_mode='categorical',\n",
    "    target_size=(150, 150),\n",
    "    color_mode=\"rgb\",\n",
    "    shuffle=False\n",
    ")"
   ]
  },
  {
   "cell_type": "code",
   "execution_count": 10,
   "id": "b7223a55",
   "metadata": {},
   "outputs": [
    {
     "name": "stdout",
     "output_type": "stream",
     "text": [
      "{'Apple___Apple_scab': 0,\n",
      " 'Apple___Black_rot': 1,\n",
      " 'Apple___Cedar_apple_rust': 2,\n",
      " 'Apple___healthy': 3,\n",
      " 'Blueberry___healthy': 4,\n",
      " 'Cherry_(including_sour)___Powdery_mildew': 5,\n",
      " 'Cherry_(including_sour)___healthy': 6,\n",
      " 'Corn_(maize)___Cercospora_leaf_spot Gray_leaf_spot': 7,\n",
      " 'Corn_(maize)___Common_rust_': 8,\n",
      " 'Corn_(maize)___Northern_Leaf_Blight': 9,\n",
      " 'Corn_(maize)___healthy': 10,\n",
      " 'Grape___Black_rot': 11,\n",
      " 'Grape___Esca_(Black_Measles)': 12,\n",
      " 'Grape___Leaf_blight_(Isariopsis_Leaf_Spot)': 13,\n",
      " 'Grape___healthy': 14,\n",
      " 'Orange___Haunglongbing_(Citrus_greening)': 15,\n",
      " 'Peach___Bacterial_spot': 16,\n",
      " 'Peach___healthy': 17,\n",
      " 'Pepper,_bell___Bacterial_spot': 18,\n",
      " 'Pepper,_bell___healthy': 19,\n",
      " 'Potato___Early_blight': 20,\n",
      " 'Potato___Late_blight': 21,\n",
      " 'Potato___healthy': 22,\n",
      " 'Raspberry___healthy': 23,\n",
      " 'Soybean___healthy': 24,\n",
      " 'Squash___Powdery_mildew': 25,\n",
      " 'Strawberry___Leaf_scorch': 26,\n",
      " 'Strawberry___healthy': 27,\n",
      " 'Tomato___Bacterial_spot': 28,\n",
      " 'Tomato___Early_blight': 29,\n",
      " 'Tomato___Late_blight': 30,\n",
      " 'Tomato___Leaf_Mold': 31,\n",
      " 'Tomato___Septoria_leaf_spot': 32,\n",
      " 'Tomato___Spider_mites Two-spotted_spider_mite': 33,\n",
      " 'Tomato___Target_Spot': 34,\n",
      " 'Tomato___Tomato_Yellow_Leaf_Curl_Virus': 35,\n",
      " 'Tomato___Tomato_mosaic_virus': 36,\n",
      " 'Tomato___healthy': 37}\n"
     ]
    }
   ],
   "source": [
    "class_dict = train_generator.class_indices\n",
    "pprint(class_dict)"
   ]
  },
  {
   "cell_type": "code",
   "execution_count": 11,
   "id": "ede3603a",
   "metadata": {},
   "outputs": [],
   "source": [
    "train_num = train_generator.samples\n",
    "valid_num = validation_generator.samples"
   ]
  },
  {
   "cell_type": "code",
   "execution_count": 12,
   "id": "5f15beb5",
   "metadata": {},
   "outputs": [],
   "source": [
    "# # Creating Instence of pre-trained model from Keras Application\n",
    "# vgg_model = VGG16(input_shape=(150, 150, 3),\n",
    "#                                 include_top=False,\n",
    "#                                 weights=None)\n",
    "\n",
    "# inception_model.load_weights(local_weights_file)\n",
    "\n",
    "base_model=tf.keras.applications.VGG16(weights=\"imagenet\",include_top=False,input_shape=(150,150,3))\n",
    "base_model.trainable=False"
   ]
  },
  {
   "cell_type": "code",
   "execution_count": 13,
   "id": "7c0dc3b9",
   "metadata": {},
   "outputs": [
    {
     "name": "stdout",
     "output_type": "stream",
     "text": [
      "Model: \"sequential\"\n",
      "_________________________________________________________________\n",
      " Layer (type)                Output Shape              Param #   \n",
      "=================================================================\n",
      " vgg16 (Functional)          (None, 4, 4, 512)         14714688  \n",
      "                                                                 \n",
      " flatten (Flatten)           (None, 8192)              0         \n",
      "                                                                 \n",
      " dense (Dense)               (None, 4096)              33558528  \n",
      "                                                                 \n",
      " dense_1 (Dense)             (None, 4096)              16781312  \n",
      "                                                                 \n",
      " dense_2 (Dense)             (None, 38)                155686    \n",
      "                                                                 \n",
      "=================================================================\n",
      "Total params: 65210214 (248.76 MB)\n",
      "Trainable params: 50495526 (192.63 MB)\n",
      "Non-trainable params: 14714688 (56.13 MB)\n",
      "_________________________________________________________________\n"
     ]
    }
   ],
   "source": [
    "vgg_model=keras.models.Sequential()\n",
    "vgg_model.add(base_model)\n",
    "vgg_model.add(Flatten())\n",
    "vgg_model.add(Dense(4096,activation='relu'))\n",
    "vgg_model.add(Dense(4096,activation='relu'))\n",
    "vgg_model.add(Dense(38,activation='softmax'))\n",
    "vgg_model.summary()"
   ]
  },
  {
   "cell_type": "code",
   "execution_count": 14,
   "id": "a8472bba",
   "metadata": {},
   "outputs": [],
   "source": [
    "vgg_model.compile(optimizer='adam',loss='categorical_crossentropy',metrics=['accuracy'])"
   ]
  },
  {
   "cell_type": "code",
   "execution_count": 15,
   "id": "c933f6ba",
   "metadata": {},
   "outputs": [
    {
     "name": "stdout",
     "output_type": "stream",
     "text": [
      "1187/1187 [==============================] - 807s 680ms/step - loss: 1.1302 - accuracy: 0.6540 - val_loss: 0.7668 - val_accuracy: 0.7504\n"
     ]
    }
   ],
   "source": [
    "import scipy\n",
    "history = vgg_model.fit(\n",
    "    train_generator,\n",
    "    steps_per_epoch=train_num//batch_size,\n",
    "    validation_data=validation_generator,\n",
    "    epochs=1,\n",
    "    validation_steps=valid_num//batch_size,\n",
    ")"
   ]
  },
  {
   "cell_type": "code",
   "execution_count": null,
   "id": "b1648b42",
   "metadata": {},
   "outputs": [],
   "source": [
    "# filepath=\"Mymodel.h5\"\n",
    "# vgg_model.save(filepath)"
   ]
  },
  {
   "cell_type": "code",
   "execution_count": 16,
   "id": "37d35369",
   "metadata": {},
   "outputs": [
    {
     "name": "stderr",
     "output_type": "stream",
     "text": [
      "/tmp/ipykernel_364835/3650955483.py:4: UserWarning: `Model.predict_generator` is deprecated and will be removed in a future version. Please use `Model.predict`, which supports generators.\n",
      "  pred = vgg_model.predict_generator(\n"
     ]
    },
    {
     "name": "stdout",
     "output_type": "stream",
     "text": [
      "637/637 [==============================] - 285s 447ms/step\n",
      "Test accuracy: 0.8060427413411938\n"
     ]
    }
   ],
   "source": [
    "from sklearn.metrics import accuracy_score\n",
    "\n",
    "test_generator.reset()\n",
    "pred = vgg_model.predict_generator(\n",
    "    test_generator,\n",
    "    verbose=1\n",
    ")\n",
    "\n",
    "predicted_class_indices = np.argmax(pred, axis=1)\n",
    "true_class_indices = test_generator.classes\n",
    "\n",
    "test_acc = accuracy_score(true_class_indices, predicted_class_indices)\n",
    "print('Test accuracy:', test_acc)"
   ]
  },
  {
   "cell_type": "code",
   "execution_count": 17,
   "id": "b1080347",
   "metadata": {},
   "outputs": [
    {
     "name": "stdout",
     "output_type": "stream",
     "text": [
      "                                                    precision    recall  f1-score   support\n",
      "\n",
      "                                Apple___Apple_scab       0.91      0.42      0.57       638\n",
      "                                 Apple___Black_rot       0.84      0.91      0.87       601\n",
      "                          Apple___Cedar_apple_rust       0.61      0.89      0.73       536\n",
      "                                   Apple___healthy       0.71      0.94      0.81       627\n",
      "                               Blueberry___healthy       0.81      0.93      0.87       567\n",
      "          Cherry_(including_sour)___Powdery_mildew       0.97      0.88      0.93       492\n",
      "                 Cherry_(including_sour)___healthy       0.90      0.96      0.93       539\n",
      "Corn_(maize)___Cercospora_leaf_spot Gray_leaf_spot       0.87      0.88      0.88       420\n",
      "                       Corn_(maize)___Common_rust_       0.99      0.94      0.96       569\n",
      "               Corn_(maize)___Northern_Leaf_Blight       0.90      0.84      0.87       491\n",
      "                            Corn_(maize)___healthy       0.50      0.40      0.44         5\n",
      "                                 Grape___Black_rot       0.89      0.54      0.67       546\n",
      "                      Grape___Esca_(Black_Measles)       0.70      0.90      0.79       566\n",
      "        Grape___Leaf_blight_(Isariopsis_Leaf_Spot)       0.96      0.95      0.95       490\n",
      "                                   Grape___healthy       0.97      0.88      0.92       520\n",
      "          Orange___Haunglongbing_(Citrus_greening)       0.98      0.90      0.94       602\n",
      "                            Peach___Bacterial_spot       0.99      0.65      0.79       535\n",
      "                                   Peach___healthy       0.86      0.89      0.88       502\n",
      "                     Pepper,_bell___Bacterial_spot       0.91      0.68      0.78       577\n",
      "                            Pepper,_bell___healthy       0.80      0.68      0.74       598\n",
      "                             Potato___Early_blight       0.90      0.80      0.84       584\n",
      "                              Potato___Late_blight       0.66      0.70      0.68       591\n",
      "                                  Potato___healthy       0.70      0.90      0.79       525\n",
      "                               Raspberry___healthy       0.89      0.92      0.90       540\n",
      "                                 Soybean___healthy       0.77      0.97      0.86       596\n",
      "                           Squash___Powdery_mildew       0.96      0.93      0.94       507\n",
      "                          Strawberry___Leaf_scorch       0.94      0.94      0.94       560\n",
      "                              Strawberry___healthy       0.85      0.97      0.91       540\n",
      "                           Tomato___Bacterial_spot       0.90      0.74      0.81       521\n",
      "                             Tomato___Early_blight       0.56      0.64      0.60       614\n",
      "                              Tomato___Late_blight       0.61      0.59      0.60       514\n",
      "                                Tomato___Leaf_Mold       0.78      0.63      0.69       574\n",
      "                       Tomato___Septoria_leaf_spot       0.80      0.33      0.46       511\n",
      "     Tomato___Spider_mites Two-spotted_spider_mite       0.75      0.65      0.69       511\n",
      "                              Tomato___Target_Spot       0.48      0.81      0.61       562\n",
      "            Tomato___Tomato_Yellow_Leaf_Curl_Virus       0.86      0.89      0.87       572\n",
      "                      Tomato___Tomato_mosaic_virus       0.77      0.95      0.85       543\n",
      "                                  Tomato___healthy       0.84      0.88      0.86       569\n",
      "\n",
      "                                          accuracy                           0.81     20355\n",
      "                                         macro avg       0.82      0.80      0.80     20355\n",
      "                                      weighted avg       0.82      0.81      0.80     20355\n",
      "\n"
     ]
    }
   ],
   "source": [
    "from sklearn.metrics import classification_report\n",
    "\n",
    "true_labels = test_generator.labels\n",
    "\n",
    "report = classification_report(true_labels, predicted_class_indices, target_names=test_generator.class_indices)\n",
    "print(report)"
   ]
  },
  {
   "cell_type": "code",
   "execution_count": 18,
   "id": "86de4fbe",
   "metadata": {},
   "outputs": [
    {
     "data": {
      "image/png": "[encoded data removed]",
      "text/plain": [
       "<Figure size 640x480 with 1 Axes>"
      ]
     },
     "metadata": {},
     "output_type": "display_data"
    },
    {
     "data": {
      "image/png": "[encoded data removed]",
      "text/plain": [
       "<Figure size 640x480 with 1 Axes>"
      ]
     },
     "metadata": {},
     "output_type": "display_data"
    }
   ],
   "source": [
    "# Plotting accuracy vs epochs\n",
    "import matplotlib.pyplot as plt\n",
    "acc = history.history['accuracy']\n",
    "val_acc = history.history['val_accuracy']\n",
    "epochs = range(1, len(acc) + 1)\n",
    "\n",
    "plt.plot(epochs, acc, 'b', label='Training accuracy')\n",
    "plt.plot(epochs, val_acc, 'r', label='Validation accuracy')\n",
    "plt.title('Training and validation accuracy')\n",
    "plt.xlabel('Epochs')\n",
    "plt.ylabel('Accuracy')\n",
    "plt.legend()\n",
    "plt.show()\n",
    "\n",
    "# Plotting loss vs epochs\n",
    "loss = history.history['loss']\n",
    "val_loss = history.history['val_loss']\n",
    "\n",
    "plt.plot(epochs, loss, 'b', label='Training loss')\n",
    "plt.plot(epochs, val_loss, 'r', label='Validation loss')\n",
    "plt.title('Training and validation loss')\n",
    "plt.xlabel('Epochs')\n",
    "plt.ylabel('Loss')\n",
    "plt.legend()\n",
    "plt.show()"
   ]
  },
  {
   "cell_type": "code",
   "execution_count": 19,
   "id": "ef0d4e4b",
   "metadata": {},
   "outputs": [],
   "source": [
    "data = {'acc': acc, 'loss': loss, 'val_acc': val_acc, 'val_loss': val_loss}\n",
    "df = pd.DataFrame(data)\n",
    "\n",
    "df.to_csv('InceptionV3-80_20.csv', index=False)"
   ]
  },
  {
   "cell_type": "code",
   "execution_count": 20,
   "id": "b3e2a6f1",
   "metadata": {},
   "outputs": [
    {
     "name": "stdout",
     "output_type": "stream",
     "text": [
      "Mean acc:  0.6539788842201233\n",
      "Mean val acc:  0.7504222989082336\n",
      "Mean loss:  1.1301649808883667\n",
      "Mean val loss:  0.7668405175209045\n"
     ]
    }
   ],
   "source": [
    "avg_acc = sum(df['acc']) / len(df['acc'])\n",
    "avg_val_acc = sum(df['val_acc']) / len(df['val_acc'])\n",
    "\n",
    "avg_loss = sum(df['loss']) / len(df['loss'])\n",
    "avg_val_loss = sum(df['val_loss']) / len(df['val_loss'])\n",
    "\n",
    "print('Mean acc: ', avg_acc)\n",
    "print('Mean val acc: ', avg_val_acc)\n",
    "\n",
    "print('Mean loss: ', avg_loss)\n",
    "print('Mean val loss: ', avg_val_loss)"
   ]
  },
  {
   "cell_type": "code",
   "execution_count": null,
   "id": "1909d235-204e-4a41-9984-42ac4a5e95d4",
   "metadata": {},
   "outputs": [],
   "source": []
  }
 ],
 "metadata": {
  "kernelspec": {
   "display_name": "Python 3 (ipykernel)",
   "language": "python",
   "name": "python3"
  },
  "language_info": {
   "codemirror_mode": {
    "name": "ipython",
    "version": 3
   },
   "file_extension": ".py",
   "mimetype": "text/x-python",
   "name": "python",
   "nbconvert_exporter": "python",
   "pygments_lexer": "ipython3",
   "version": "3.9.18"
  }
 },
 "nbformat": 4,
 "nbformat_minor": 5
}
