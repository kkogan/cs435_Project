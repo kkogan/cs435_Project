{
 "cells": [
  {
   "cell_type": "code",
   "execution_count": 12,
   "id": "f81bf089",
   "metadata": {},
   "outputs": [],
   "source": [
    "import os\n",
    "import pandas as pd\n",
    "pd.set_option('display.max_colwidth', 200)"
   ]
  },
  {
   "cell_type": "code",
   "execution_count": 4,
   "id": "66c0cdbd",
   "metadata": {},
   "outputs": [
    {
     "name": "stdout",
     "output_type": "stream",
     "text": [
      " Apple___Apple_scab\r\n",
      " Apple___Black_rot\r\n",
      " Apple___Cedar_apple_rust\r\n",
      " Apple___healthy\r\n",
      "'Cherry_(including_sour)___healthy'\r\n",
      "'Cherry_(including_sour)___Powdery_mildew'\r\n",
      "'Corn_(maize)___Cercospora_leaf_spot'\r\n",
      "'Corn_(maize)___Common_rust_'\r\n",
      "'Corn_(maize)___healthy'\r\n",
      "'Corn_(maize)___Northern_Leaf_Blight'\r\n",
      " Grape___Black_rot\r\n",
      "'Grape___Esca_(Black_Measles)'\r\n",
      " Grape___healthy\r\n",
      "'Grape___Leaf_blight_(Isariopsis_Leaf_Spot)'\r\n",
      " manifest_augment-v2.csv\r\n",
      " manifest_merged.csv\r\n",
      " manifest_v2.csv\r\n",
      " Peach___Bacterial_spot\r\n",
      " Peach___healthy\r\n",
      " Pepper,_bell___Bacterial_spot\r\n",
      " Pepper,_bell___healthy\r\n",
      " Potato___Early_blight\r\n",
      " Potato___healthy\r\n",
      " Potato___Late_blight\r\n",
      " Strawberry___healthy\r\n",
      " Strawberry___Leaf_scorch\r\n",
      " Tomato___Bacterial_spot\r\n",
      " Tomato___Early_blight\r\n",
      " Tomato___healthy\r\n",
      " Tomato___Late_blight\r\n",
      " Tomato___Leaf_Mold\r\n",
      " Tomato___Septoria_leaf_spot\r\n",
      " Tomato___Spider_mites\r\n",
      " Tomato___Target_Spot\r\n",
      " Tomato___Tomato_mosaic_virus\r\n",
      " Tomato___Tomato_Yellow_Leaf_Curl_Virus\r\n"
     ]
    }
   ],
   "source": [
    "!ls ~cs435/cs435a/CS435_Plant_Data_v2_augment-v2/2023-11-15-231056"
   ]
  },
  {
   "cell_type": "code",
   "execution_count": 5,
   "id": "f453b090",
   "metadata": {},
   "outputs": [],
   "source": [
    "df = pd.read_csv('~cs435/cs435a/CS435_Plant_Data_v2_augment-v2/2023-11-15-231056/manifest_merged.csv')"
   ]
  },
  {
   "cell_type": "code",
   "execution_count": 6,
   "id": "d5a22e87",
   "metadata": {},
   "outputs": [
    {
     "name": "stdout",
     "output_type": "stream",
     "text": [
      "<class 'pandas.core.frame.DataFrame'>\n",
      "RangeIndex: 215799 entries, 0 to 215798\n",
      "Data columns (total 11 columns):\n",
      " #   Column             Non-Null Count   Dtype \n",
      "---  ------             --------------   ----- \n",
      " 0   hdfs_path          215799 non-null  object\n",
      " 1   file_name          215799 non-null  object\n",
      " 2   species            215799 non-null  object\n",
      " 3   is_healthy         215799 non-null  int64 \n",
      " 4   class_name         215799 non-null  object\n",
      " 5   source_1           215799 non-null  object\n",
      " 6   source_2           215799 non-null  object\n",
      " 7   tag                215799 non-null  object\n",
      " 8   augmentation       180896 non-null  object\n",
      " 9   correct_file_name  215799 non-null  object\n",
      " 10  path_to_shared     215799 non-null  object\n",
      "dtypes: int64(1), object(10)\n",
      "memory usage: 18.1+ MB\n"
     ]
    }
   ],
   "source": [
    "df.info()"
   ]
  },
  {
   "cell_type": "code",
   "execution_count": 10,
   "id": "75ffa777",
   "metadata": {},
   "outputs": [
    {
     "data": {
      "text/html": [
       "<div>\n",
       "<style scoped>\n",
       "    .dataframe tbody tr th:only-of-type {\n",
       "        vertical-align: middle;\n",
       "    }\n",
       "\n",
       "    .dataframe tbody tr th {\n",
       "        vertical-align: top;\n",
       "    }\n",
       "\n",
       "    .dataframe thead th {\n",
       "        text-align: right;\n",
       "    }\n",
       "</style>\n",
       "<table border=\"1\" class=\"dataframe\">\n",
       "  <thead>\n",
       "    <tr style=\"text-align: right;\">\n",
       "      <th></th>\n",
       "      <th>0</th>\n",
       "    </tr>\n",
       "  </thead>\n",
       "  <tbody>\n",
       "    <tr>\n",
       "      <th>hdfs_path</th>\n",
       "      <td>hdfs:///cs435/term_proj/CS435_Plant_Data_v2/Apple___Apple_scab/00075aa8-d81a-4184-8541-b692b78d398a___FREC_Scab 3335.JPG</td>\n",
       "    </tr>\n",
       "    <tr>\n",
       "      <th>file_name</th>\n",
       "      <td>00075aa8-d81a-4184-8541-b692b78d398a___FREC_Scab 3335.JPG</td>\n",
       "    </tr>\n",
       "    <tr>\n",
       "      <th>species</th>\n",
       "      <td>Apple</td>\n",
       "    </tr>\n",
       "    <tr>\n",
       "      <th>is_healthy</th>\n",
       "      <td>0</td>\n",
       "    </tr>\n",
       "    <tr>\n",
       "      <th>class_name</th>\n",
       "      <td>Apple___Apple_scab</td>\n",
       "    </tr>\n",
       "    <tr>\n",
       "      <th>source_1</th>\n",
       "      <td>00075aa8-d81a-4184-8541-b692b78d398a</td>\n",
       "    </tr>\n",
       "    <tr>\n",
       "      <th>source_2</th>\n",
       "      <td>3335</td>\n",
       "    </tr>\n",
       "    <tr>\n",
       "      <th>tag</th>\n",
       "      <td>FREC_Scab</td>\n",
       "    </tr>\n",
       "    <tr>\n",
       "      <th>augmentation</th>\n",
       "      <td>NaN</td>\n",
       "    </tr>\n",
       "    <tr>\n",
       "      <th>correct_file_name</th>\n",
       "      <td>00075aa8-d81a-4184-8541-b692b78d398a___FREC_Scab 3335.JPG</td>\n",
       "    </tr>\n",
       "    <tr>\n",
       "      <th>path_to_shared</th>\n",
       "      <td>~cs435/cs435a/CS435_Plant_Data_v2_augment-v2/2023-11-15-231056/Apple___Apple_scab/00075aa8-d81a-4184-8541-b692b78d398a___FREC_Scab 3335.JPG</td>\n",
       "    </tr>\n",
       "  </tbody>\n",
       "</table>\n",
       "</div>"
      ],
      "text/plain": [
       "                                                                                                                                                             0\n",
       "hdfs_path                             hdfs:///cs435/term_proj/CS435_Plant_Data_v2/Apple___Apple_scab/00075aa8-d81a-4184-8541-b692b78d398a___FREC_Scab 3335.JPG\n",
       "file_name                                                                                            00075aa8-d81a-4184-8541-b692b78d398a___FREC_Scab 3335.JPG\n",
       "species                                                                                                                                                  Apple\n",
       "is_healthy                                                                                                                                                   0\n",
       "class_name                                                                                                                                  Apple___Apple_scab\n",
       "source_1                                                                                                                  00075aa8-d81a-4184-8541-b692b78d398a\n",
       "source_2                                                                                                                                                  3335\n",
       "tag                                                                                                                                                  FREC_Scab\n",
       "augmentation                                                                                                                                               NaN\n",
       "correct_file_name                                                                                    00075aa8-d81a-4184-8541-b692b78d398a___FREC_Scab 3335.JPG\n",
       "path_to_shared     ~cs435/cs435a/CS435_Plant_Data_v2_augment-v2/2023-11-15-231056/Apple___Apple_scab/00075aa8-d81a-4184-8541-b692b78d398a___FREC_Scab 3335.JPG"
      ]
     },
     "execution_count": 10,
     "metadata": {},
     "output_type": "execute_result"
    }
   ],
   "source": [
    "df.head(1).T"
   ]
  },
  {
   "cell_type": "code",
   "execution_count": 49,
   "id": "6f5d963b",
   "metadata": {},
   "outputs": [],
   "source": [
    "df['path_to_shared'] = \"/s/bach/a/class/cs435/cs435a/CS435_Plant_Data_v2_augment-v2/2023-11-15-231056/\" + df['class_name'] + \"/\" + df['correct_file_name']"
   ]
  },
  {
   "cell_type": "code",
   "execution_count": 50,
   "id": "da8f7cbd",
   "metadata": {},
   "outputs": [],
   "source": [
    "df['file_exists'] = df['path_to_shared'].apply(lambda x: os.path.isfile(x))\n"
   ]
  },
  {
   "cell_type": "code",
   "execution_count": 51,
   "id": "eaf731b1",
   "metadata": {},
   "outputs": [
    {
     "data": {
      "text/plain": [
       "True    215799\n",
       "Name: file_exists, dtype: int64"
      ]
     },
     "execution_count": 51,
     "metadata": {},
     "output_type": "execute_result"
    }
   ],
   "source": [
    "df['file_exists'].value_counts()"
   ]
  },
  {
   "cell_type": "code",
   "execution_count": 56,
   "id": "e78df711",
   "metadata": {},
   "outputs": [
    {
     "data": {
      "text/html": [
       "<div>\n",
       "<style scoped>\n",
       "    .dataframe tbody tr th:only-of-type {\n",
       "        vertical-align: middle;\n",
       "    }\n",
       "\n",
       "    .dataframe tbody tr th {\n",
       "        vertical-align: top;\n",
       "    }\n",
       "\n",
       "    .dataframe thead th {\n",
       "        text-align: right;\n",
       "    }\n",
       "</style>\n",
       "<table border=\"1\" class=\"dataframe\">\n",
       "  <thead>\n",
       "    <tr style=\"text-align: right;\">\n",
       "      <th></th>\n",
       "      <th>0</th>\n",
       "    </tr>\n",
       "  </thead>\n",
       "  <tbody>\n",
       "    <tr>\n",
       "      <th>hdfs_path</th>\n",
       "      <td>hdfs:///cs435/term_proj/CS435_Plant_Data_v2/Apple___Apple_scab/00075aa8-d81a-4184-8541-b692b78d398a___FREC_Scab 3335.JPG</td>\n",
       "    </tr>\n",
       "    <tr>\n",
       "      <th>file_name</th>\n",
       "      <td>00075aa8-d81a-4184-8541-b692b78d398a___FREC_Scab 3335.JPG</td>\n",
       "    </tr>\n",
       "    <tr>\n",
       "      <th>species</th>\n",
       "      <td>Apple</td>\n",
       "    </tr>\n",
       "    <tr>\n",
       "      <th>is_healthy</th>\n",
       "      <td>0</td>\n",
       "    </tr>\n",
       "    <tr>\n",
       "      <th>class_name</th>\n",
       "      <td>Apple___Apple_scab</td>\n",
       "    </tr>\n",
       "    <tr>\n",
       "      <th>source_1</th>\n",
       "      <td>00075aa8-d81a-4184-8541-b692b78d398a</td>\n",
       "    </tr>\n",
       "    <tr>\n",
       "      <th>source_2</th>\n",
       "      <td>3335</td>\n",
       "    </tr>\n",
       "    <tr>\n",
       "      <th>tag</th>\n",
       "      <td>FREC_Scab</td>\n",
       "    </tr>\n",
       "    <tr>\n",
       "      <th>augmentation</th>\n",
       "      <td>NaN</td>\n",
       "    </tr>\n",
       "    <tr>\n",
       "      <th>correct_file_name</th>\n",
       "      <td>00075aa8-d81a-4184-8541-b692b78d398a___FREC_Scab 3335.JPG</td>\n",
       "    </tr>\n",
       "    <tr>\n",
       "      <th>path_to_shared</th>\n",
       "      <td>/s/bach/a/class/cs435/cs435a/CS435_Plant_Data_v2_augment-v2/2023-11-15-231056/Apple___Apple_scab/00075aa8-d81a-4184-8541-b692b78d398a___FREC_Scab 3335.JPG</td>\n",
       "    </tr>\n",
       "    <tr>\n",
       "      <th>file_exists</th>\n",
       "      <td>True</td>\n",
       "    </tr>\n",
       "  </tbody>\n",
       "</table>\n",
       "</div>"
      ],
      "text/plain": [
       "                                                                                                                                                                            0\n",
       "hdfs_path                                            hdfs:///cs435/term_proj/CS435_Plant_Data_v2/Apple___Apple_scab/00075aa8-d81a-4184-8541-b692b78d398a___FREC_Scab 3335.JPG\n",
       "file_name                                                                                                           00075aa8-d81a-4184-8541-b692b78d398a___FREC_Scab 3335.JPG\n",
       "species                                                                                                                                                                 Apple\n",
       "is_healthy                                                                                                                                                                  0\n",
       "class_name                                                                                                                                                 Apple___Apple_scab\n",
       "source_1                                                                                                                                 00075aa8-d81a-4184-8541-b692b78d398a\n",
       "source_2                                                                                                                                                                 3335\n",
       "tag                                                                                                                                                                 FREC_Scab\n",
       "augmentation                                                                                                                                                              NaN\n",
       "correct_file_name                                                                                                   00075aa8-d81a-4184-8541-b692b78d398a___FREC_Scab 3335.JPG\n",
       "path_to_shared     /s/bach/a/class/cs435/cs435a/CS435_Plant_Data_v2_augment-v2/2023-11-15-231056/Apple___Apple_scab/00075aa8-d81a-4184-8541-b692b78d398a___FREC_Scab 3335.JPG\n",
       "file_exists                                                                                                                                                              True"
      ]
     },
     "execution_count": 56,
     "metadata": {},
     "output_type": "execute_result"
    }
   ],
   "source": [
    "df.head(1).T"
   ]
  },
  {
   "cell_type": "code",
   "execution_count": 57,
   "id": "fb70d72c",
   "metadata": {},
   "outputs": [],
   "source": [
    "df.to_csv('~cs435/cs435a/CS435_Plant_Data_v2_augment-v2/2023-11-15-231056/manifest_merged_2.csv', index=False)"
   ]
  },
  {
   "cell_type": "code",
   "execution_count": 58,
   "id": "3a13b743",
   "metadata": {},
   "outputs": [
    {
     "name": "stdout",
     "output_type": "stream",
     "text": [
      " Apple___Apple_scab\r\n",
      " Apple___Black_rot\r\n",
      " Apple___Cedar_apple_rust\r\n",
      " Apple___healthy\r\n",
      "'Cherry_(including_sour)___healthy'\r\n",
      "'Cherry_(including_sour)___Powdery_mildew'\r\n",
      "'Corn_(maize)___Cercospora_leaf_spot'\r\n",
      "'Corn_(maize)___Common_rust_'\r\n",
      "'Corn_(maize)___healthy'\r\n",
      "'Corn_(maize)___Northern_Leaf_Blight'\r\n",
      " Grape___Black_rot\r\n",
      "'Grape___Esca_(Black_Measles)'\r\n",
      " Grape___healthy\r\n",
      "'Grape___Leaf_blight_(Isariopsis_Leaf_Spot)'\r\n",
      " manifest_augment-v2.csv\r\n",
      " manifest_merged_2.csv\r\n",
      " manifest_merged.csv\r\n",
      " manifest_v2.csv\r\n",
      " Peach___Bacterial_spot\r\n",
      " Peach___healthy\r\n",
      " Pepper,_bell___Bacterial_spot\r\n",
      " Pepper,_bell___healthy\r\n",
      " Potato___Early_blight\r\n",
      " Potato___healthy\r\n",
      " Potato___Late_blight\r\n",
      " Strawberry___healthy\r\n",
      " Strawberry___Leaf_scorch\r\n",
      " Tomato___Bacterial_spot\r\n",
      " Tomato___Early_blight\r\n",
      " Tomato___healthy\r\n",
      " Tomato___Late_blight\r\n",
      " Tomato___Leaf_Mold\r\n",
      " Tomato___Septoria_leaf_spot\r\n",
      " Tomato___Spider_mites\r\n",
      " Tomato___Target_Spot\r\n",
      " Tomato___Tomato_mosaic_virus\r\n",
      " Tomato___Tomato_Yellow_Leaf_Curl_Virus\r\n"
     ]
    }
   ],
   "source": [
    "!ls ~cs435/cs435a/CS435_Plant_Data_v2_augment-v2/2023-11-15-231056"
   ]
  },
  {
   "cell_type": "code",
   "execution_count": 59,
   "id": "c56327df",
   "metadata": {},
   "outputs": [],
   "source": [
    "!chmod 777 ~cs435/cs435a/CS435_Plant_Data_v2_augment-v2/2023-11-15-231056/manifest_merged_2.csv"
   ]
  },
  {
   "cell_type": "code",
   "execution_count": 1,
   "id": "cb6195cd",
   "metadata": {},
   "outputs": [
    {
     "name": "stdout",
     "output_type": "stream",
     "text": [
      "-rwxrwxrwx 1 kkogan cs435a 119112610 Nov 16 20:48 /s/bach/a/class/cs435/cs435a/CS435_Plant_Data_v2_augment-v2/2023-11-15-231056/manifest_merged_2.csv\r\n"
     ]
    }
   ],
   "source": [
    "!ls -la ~cs435/cs435a/CS435_Plant_Data_v2_augment-v2/2023-11-15-231056/manifest_merged_2.csv"
   ]
  },
  {
   "cell_type": "code",
   "execution_count": 2,
   "id": "69b29abb",
   "metadata": {},
   "outputs": [],
   "source": [
    "!cp ~cs435/cs435a/CS435_Plant_Data_v2_augment-v2/2023-11-15-231056/manifest_merged_2.csv ~cs435/cs435a/CS435_Plant_Data_v2_augment-v2/2023-11-15-231056/manifest_merged_2.backup.csv"
   ]
  },
  {
   "cell_type": "code",
   "execution_count": null,
   "id": "1c670a41",
   "metadata": {},
   "outputs": [],
   "source": []
  }
 ],
 "metadata": {
  "kernelspec": {
   "display_name": "Python 3 (ipykernel)",
   "language": "python",
   "name": "python3"
  },
  "language_info": {
   "codemirror_mode": {
    "name": "ipython",
    "version": 3
   },
   "file_extension": ".py",
   "mimetype": "text/x-python",
   "name": "python",
   "nbconvert_exporter": "python",
   "pygments_lexer": "ipython3",
   "version": "3.9.16"
  }
 },
 "nbformat": 4,
 "nbformat_minor": 5
}
